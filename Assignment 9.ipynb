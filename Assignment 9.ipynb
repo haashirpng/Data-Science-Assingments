{
 "cells": [
  {
   "cell_type": "markdown",
   "id": "2bf6c77b-bc8e-45a8-a853-401f0356badf",
   "metadata": {},
   "source": [
    "Q1:\n",
    "Write a Python program that:\n",
    "\n",
    "Has a balance of 1000.\n",
    "\n",
    "Asks the user for a withdrawal amount.\n",
    "\n",
    "Checks for these errors:\n",
    "\n",
    "Non-numeric input → print \"Please enter a valid number.\"\n",
    "\n",
    "Amount ≤ 0 → print \"Amount must be more than zero.\"\n",
    "\n",
    "Amount > balance → print \"Insufficient balance.\"\n",
    "\n",
    "If valid, deducts amount and shows remaining balance.\n",
    "\n",
    "Always prints \"Thank you for using the ATM.\"\n",
    "\n",
    "Expected Output:\n",
    "\n",
    "- Enter amount to withdraw: 1500\n",
    "\n",
    "  Insufficient balance.\n",
    "\n",
    "  Thank you for using the ATM.\n",
    "\n",
    "\n",
    "- Enter amount to withdraw:  0\n",
    "\n",
    "  Amount must be more than zero.\n",
    "\n",
    "  Thank you for using the ATM.\n",
    "\n",
    "\n",
    "- Enter amount to withdraw:  K\n",
    "\n",
    "\n",
    "  Please enter a valid number.\n",
    "\n",
    "  Thank you for using the ATM."
   ]
  },
  {
   "cell_type": "code",
   "execution_count": 1,
   "id": "b4dd4807-59ff-48f4-8f76-c241eb9765f2",
   "metadata": {},
   "outputs": [
    {
     "name": "stdin",
     "output_type": "stream",
     "text": [
      "Enter amount to withdraw:  1500\n"
     ]
    },
    {
     "name": "stdout",
     "output_type": "stream",
     "text": [
      "Insufficient balance.\n",
      "Thank you for using the ATM.\n"
     ]
    }
   ],
   "source": [
    "balance = 1000\n",
    "\n",
    "try:\n",
    "    amount = int(input(\"Enter amount to withdraw: \"))\n",
    "    if amount <= 0:\n",
    "        print(\"Amount must be more than zero.\")\n",
    "    elif amount > balance:\n",
    "        print(\"Insufficient balance.\")\n",
    "    else:\n",
    "        balance -= amount\n",
    "        print(\"Withdrawal successful. Remaining balance:\", balance)\n",
    "except ValueError:\n",
    "    print(\"Please enter a valid number.\")\n",
    "\n",
    "print(\"Thank you for using the ATM.\")\n"
   ]
  },
  {
   "cell_type": "markdown",
   "id": "e7ca4d3f-3f2f-4b01-bc4c-28919084207c",
   "metadata": {},
   "source": [
    "Q2\n",
    "\n",
    "Write a Python program that:\n",
    "\n",
    "Has 5 seats available (available_seats = 5).\n",
    "\n",
    "Asks the user how many tickets they want to book.\n",
    "\n",
    "Checks for these cases:\n",
    "\n",
    "Non-numeric input → print \"Please enter a valid number.\"\n",
    "\n",
    "Tickets ≤ 0 → print \"You must book at least 1 ticket.\"\n",
    "\n",
    "Tickets more than available seats → print \"Not enough seats available.\"\n",
    "\n",
    "If valid, confirms the booking by printing how many tickets were booked.\n",
    "\n",
    "Always prints \"Thank you for booking with us.\" at the end.\n",
    "\n",
    "Expected Output:\n",
    "\n",
    "- How many tickets do you want to book? 3\n",
    "\n",
    "  3 ticket(s) booked successfully.\n",
    "\n",
    "  Thank you for booking with us.\n",
    "\n",
    "- How many tickets do you want to book? 0\n",
    "\n",
    "\n",
    "  You must book at least 1 ticket.\n",
    "\n",
    "  Thank you for booking with us.\n",
    "\n",
    "- How many tickets do you want to book? 7\n",
    "\n",
    "  Not enough seats available.\n",
    "\n",
    "  Thank you for booking with us.\n",
    "\n",
    "- How many tickets do you want to book? five\n",
    "\n",
    "  Please enter a valid number.\n",
    "\n",
    "  Thank you for booking with us.\n",
    "\n",
    "\n",
    "\n"
   ]
  },
  {
   "cell_type": "code",
   "execution_count": 2,
   "id": "8c952290-6740-4876-bd55-ae50edfcbf0b",
   "metadata": {},
   "outputs": [
    {
     "name": "stdin",
     "output_type": "stream",
     "text": [
      "How many tickets do you want to book?  4\n"
     ]
    },
    {
     "name": "stdout",
     "output_type": "stream",
     "text": [
      "4 ticket(s) booked successfully.\n",
      "Thank you for booking with us.\n"
     ]
    }
   ],
   "source": [
    "available_seats = 5\n",
    "\n",
    "try:\n",
    "    tickets = int(input(\"How many tickets do you want to book? \"))\n",
    "    if tickets <= 0:\n",
    "        print(\"You must book at least 1 ticket.\")\n",
    "    elif tickets > available_seats:\n",
    "        print(\"Not enough seats available.\")\n",
    "    else:\n",
    "        print(f\"{tickets} ticket(s) booked successfully.\")\n",
    "except ValueError:\n",
    "    print(\"Please enter a valid number.\")\n",
    "\n",
    "print(\"Thank you for booking with us.\")"
   ]
  },
  {
   "cell_type": "markdown",
   "id": "5dc01c7c-2a5b-4a18-bd8f-4b80f71b625b",
   "metadata": {},
   "source": [
    "Q3:\n",
    "\n",
    "Write a Python program that:\n",
    "\n",
    "Asks the user how many items they want to buy.\n",
    "\n",
    "If the user enters a non-number, print: \"Please enter a valid quantity.\"\n",
    "\n",
    "If the user enters a number less than 1, print: \"You must buy at least one item.\"\n",
    "\n",
    "If the input is valid, print: \"You added {quantity} item(s) to your cart.\"\n",
    "\n",
    "Expected Output:\n",
    "\n",
    "- Enter the number of items you want to buy: 3\n",
    "\n",
    "  You added 3 item(s) to your cart.\n",
    "\n",
    "- Enter the number of items you want to buy: 0\n",
    "\n",
    "    You must buy at least one item.\n",
    "\n",
    "- Enter the number of items you want to buy: five\n",
    "\n",
    "  Please enter a valid quantity.\n",
    "\n"
   ]
  },
  {
   "cell_type": "code",
   "execution_count": 3,
   "id": "ab10e813-07e8-46e5-8b9a-0aef5951aac8",
   "metadata": {},
   "outputs": [
    {
     "name": "stdin",
     "output_type": "stream",
     "text": [
      "Enter the number of items you want to buy:  5\n"
     ]
    },
    {
     "name": "stdout",
     "output_type": "stream",
     "text": [
      "You added 5 item(s) to your cart.\n"
     ]
    }
   ],
   "source": [
    "try:\n",
    "    quantity = int(input(\"Enter the number of items you want to buy: \"))\n",
    "    if quantity < 1:\n",
    "        print(\"You must buy at least one item.\")\n",
    "    else:\n",
    "        print(f\"You added {quantity} item(s) to your cart.\")\n",
    "except ValueError:\n",
    "    print(\"Please enter a valid quantity.\")"
   ]
  },
  {
   "cell_type": "markdown",
   "id": "3ac27741-aec9-45ae-83c5-8648e53245cd",
   "metadata": {},
   "source": [
    "Q4:\n",
    "Write a Python program that:\n",
    "\n",
    "Asks the user to enter a number between 1 and 7.\n",
    "\n",
    "If the number is between 1 and 7, prints the corresponding day of the week (1 = Monday, 7 = Sunday).\n",
    "\n",
    "If the number is outside this range, prints: \"Please enter a number between 1 and 7.\"\n",
    "\n",
    "Handles invalid input (non-numbers) by printing: \"Please enter a valid number.\"\n",
    "\n",
    "Expected Output:\n",
    "\n",
    "- Enter a day number (1-7): 3\n",
    "\n",
    "  Day is Wednesday\n",
    "\n",
    "- Enter a day number (1-7): 9\n",
    "\n",
    "    Please enter a number between 1 and 7.\n",
    "\n",
    "- Enter a day number (1-7): five\n",
    "\n",
    "  Please enter a valid number.\n",
    "\n",
    "\n"
   ]
  },
  {
   "cell_type": "code",
   "execution_count": 4,
   "id": "2df95403-bf25-4ff0-b855-0c0094b4c678",
   "metadata": {},
   "outputs": [
    {
     "name": "stdin",
     "output_type": "stream",
     "text": [
      "Enter a day number (1-7):  8\n"
     ]
    },
    {
     "name": "stdout",
     "output_type": "stream",
     "text": [
      "Please enter a number between 1 and 7.\n"
     ]
    }
   ],
   "source": [
    "try:\n",
    "    num = int(input(\"Enter a day number (1-7): \"))\n",
    "    days = [\"Monday\", \"Tuesday\", \"Wednesday\", \"Thursday\", \"Friday\", \"Saturday\", \"Sunday\"]\n",
    "    if 1 <= num <= 7:\n",
    "        print(\"Day is\", days[num - 1])\n",
    "    else:\n",
    "        print(\"Please enter a number between 1 and 7.\")\n",
    "except ValueError:\n",
    "    print(\"Please enter a valid number.\")"
   ]
  },
  {
   "cell_type": "markdown",
   "id": "ae60a0eb-b305-425f-b90e-808005f8cefb",
   "metadata": {},
   "source": [
    "Q5:\n",
    "\n",
    "Write a Python program that:\n",
    "\n",
    "Asks the user how many days late they are returning a book.\n",
    "\n",
    "Calculates a fine: $0.50 per day late.\n",
    "\n",
    "If the user enters a negative number, print: \"Days late cannot be negative.\"\n",
    "\n",
    "If the input is invalid (not a number), print: \"Please enter a valid number.\"\n",
    "\n",
    "Otherwise, print the total fine.\n",
    "\n",
    "Expected Output:\n",
    "\n",
    "- Enter the number of days late: 4\n",
    "\n",
    "  Total fine: $2.00\n",
    "\n",
    "- Enter the number of days late: 0\n",
    "\n",
    "  Total fine: $0.00\n",
    "\n",
    "- Enter the number of days late: -3\n",
    "\n",
    "    Days late cannot be negative.\n",
    "\n",
    "- Enter the number of days late: five\n",
    "\n",
    "\n",
    "  Please enter a valid number.\n",
    "\n",
    "\n",
    "\n"
   ]
  },
  {
   "cell_type": "code",
   "execution_count": 5,
   "id": "543a48da-10c9-432d-9bf0-2fc6e67b706f",
   "metadata": {},
   "outputs": [
    {
     "name": "stdin",
     "output_type": "stream",
     "text": [
      "Enter the number of days late:  7\n"
     ]
    },
    {
     "name": "stdout",
     "output_type": "stream",
     "text": [
      "Total fine: $3.50\n"
     ]
    }
   ],
   "source": [
    "try:\n",
    "    days = int(input(\"Enter the number of days late: \"))\n",
    "    if days < 0:\n",
    "        print(\"Days late cannot be negative.\")\n",
    "    else:\n",
    "        fine = days * 0.50\n",
    "        print(f\"Total fine: ${fine:.2f}\")\n",
    "except ValueError:\n",
    "    print(\"Please enter a valid number.\")"
   ]
  },
  {
   "cell_type": "markdown",
   "id": "0c62f22a-9cd0-4092-81d7-f9a1dfd27478",
   "metadata": {},
   "source": [
    "Q6:\n",
    "Define a class named Book that has the following attributes:\n",
    "\n",
    "title (string)\n",
    "\n",
    "author (string)\n",
    "\n",
    "year (integer)\n",
    "\n",
    "Write a constructor (__init__) that initializes these attributes when a Book object is created.\n",
    "\n",
    "Then, create an object of the Book class with sample data (e.g., title = \"To Kill a Mockingbird\", author = \"Harper Lee\", year = 1960).\n",
    "\n",
    "Finally, print the values of the object's attributes (title, author, and year\n",
    "\n",
    "Expected Output:\n",
    "\n",
    "To Kill a Mockingbird\n",
    "\n",
    "Harper Lee\n",
    "\n",
    "1960\n"
   ]
  },
  {
   "cell_type": "code",
   "execution_count": 6,
   "id": "6bc0cc79-5af0-4522-a5da-5ce3598e0862",
   "metadata": {},
   "outputs": [
    {
     "name": "stdout",
     "output_type": "stream",
     "text": [
      "To Kill a Mockingbird\n",
      "Harper Lee\n",
      "1960\n"
     ]
    }
   ],
   "source": [
    "class Book:\n",
    "    def __init__(self, title, author, year):\n",
    "        self.title = title\n",
    "        self.author = author\n",
    "        self.year = year\n",
    "\n",
    "book1 = Book(\"To Kill a Mockingbird\", \"Harper Lee\", 1960)\n",
    "\n",
    "print(book1.title)\n",
    "print(book1.author)\n",
    "print(book1.year)"
   ]
  },
  {
   "cell_type": "markdown",
   "id": "865ebbd2-6635-46b3-8dd5-67f3939287e6",
   "metadata": {},
   "source": [
    "Q7:\n",
    "\n",
    "Define a class named Book with the following:\n",
    "\n",
    "A constructor (__init__) that initializes three attributes: title, author, and year.\n",
    "\n",
    "A method display_info() that prints the book details in the format:\n",
    "\n",
    "'{title}' by {author}, published in {year}.\n",
    "\n",
    "A method is_classic() that simply prints:\n",
    "\n",
    "\"This is a book.\"\n",
    "\n",
    "Create an object of the Book class using this data:\n",
    "\n",
    "Title: \"To Kill a Mockingbird\"\n",
    "\n",
    "Author: \"Harper Lee\"\n",
    "\n",
    "Year: 1960\n",
    "\n",
    "Call both methods on the object.\n",
    "\n",
    "Expected Output:\n",
    "\n",
    "'To Kill a Mockingbird' by Harper Lee, published in 1960.\n",
    "\n",
    "This is a book.\n",
    "\n"
   ]
  },
  {
   "cell_type": "code",
   "execution_count": 8,
   "id": "fa54bede-2a9d-47f5-bc3d-794b8406e00d",
   "metadata": {},
   "outputs": [
    {
     "name": "stdout",
     "output_type": "stream",
     "text": [
      "'To Kill a Mockingbird' by Harper Lee, published in 1960.\n",
      "This is a book.\n"
     ]
    }
   ],
   "source": [
    "class Book:\n",
    "    def __init__(self, title, author, year):\n",
    "        self.title = title\n",
    "        self.author = author\n",
    "        self.year = year\n",
    "\n",
    "    def display_info(self):\n",
    "        print(f\"'{self.title}' by {self.author}, published in {self.year}.\")\n",
    "\n",
    "    def is_classic(self):\n",
    "        print(\"This is a book.\")\n",
    "\n",
    "book1 = Book(\"To Kill a Mockingbird\", \"Harper Lee\", 1960)\n",
    "book1.display_info()\n",
    "book1.is_classic()"
   ]
  },
  {
   "cell_type": "markdown",
   "id": "aa6ad4bb-1c4c-4765-b1e0-98068f7c89b8",
   "metadata": {},
   "source": [
    "Q8:\n",
    "\n",
    "Define a class named Student that has the following:\n",
    "\n",
    "Attributes: name, grade, and age.\n",
    "\n",
    "A method introduce() that prints:\n",
    "\n",
    "\"My name is {name}, I am {age} years old.\"\n",
    "\n",
    "A method show_grade() that prints:\n",
    "\n",
    "\"My grade is {grade}.\"\n",
    "\n",
    "Create an object of the Student class with sample data (e.g., \"Alice\", \"A\", 16), and call both methods on the object.\n",
    "\n",
    "Expected Output:\n",
    "\n",
    "My name is Alice, I am 16 years old.\n",
    "\n",
    "My grade is A.\n"
   ]
  },
  {
   "cell_type": "code",
   "execution_count": 9,
   "id": "fee9679e-38db-40b3-a376-4747cd276ff6",
   "metadata": {},
   "outputs": [
    {
     "name": "stdout",
     "output_type": "stream",
     "text": [
      "My name is Alice, I am 16 years old.\n",
      "My grade is A.\n"
     ]
    }
   ],
   "source": [
    "class Student:\n",
    "    def __init__(self, name, grade, age):\n",
    "        self.name = name\n",
    "        self.grade = grade\n",
    "        self.age = age\n",
    "\n",
    "    def introduce(self):\n",
    "        print(f\"My name is {self.name}, I am {self.age} years old.\")\n",
    "\n",
    "    def show_grade(self):\n",
    "        print(f\"My grade is {self.grade}.\")\n",
    "\n",
    "student1 = Student(\"Alice\", \"A\", 16)\n",
    "student1.introduce()\n",
    "student1.show_grade()"
   ]
  },
  {
   "cell_type": "markdown",
   "id": "525dd92f-d478-42fe-b48f-705262d24ee3",
   "metadata": {},
   "source": [
    "Q9:\n",
    "\n",
    "Define a class named Light with two methods:\n",
    "\n",
    "turn_on() — prints: \"The light is now ON.\"\n",
    "\n",
    "check_status() — prints: \"The light is bright and working.\"\n",
    "\n",
    "Create an object of the Light class and call both methods.\n",
    "\n",
    "Expected Output:\n",
    "\n",
    "The light is now ON.\n",
    "\n",
    "The light is bright and working."
   ]
  },
  {
   "cell_type": "code",
   "execution_count": 10,
   "id": "0a93a394-a305-435a-a7cb-2a717884b255",
   "metadata": {},
   "outputs": [
    {
     "name": "stdout",
     "output_type": "stream",
     "text": [
      "The light is now ON.\n",
      "The light is bright and working.\n"
     ]
    }
   ],
   "source": [
    "class Light:\n",
    "    def turn_on(self):\n",
    "        print(\"The light is now ON.\")\n",
    "\n",
    "    def check_status(self):\n",
    "        print(\"The light is bright and working.\")\n",
    "\n",
    "lamp = Light()\n",
    "lamp.turn_on()\n",
    "lamp.check_status()"
   ]
  },
  {
   "cell_type": "markdown",
   "id": "229582cf-8c57-44e9-89e5-ab363c727f0d",
   "metadata": {},
   "source": [
    "Q10:\n",
    "\n",
    "available_slots = [101, 102, 103, 104, 105]\n",
    "\n",
    "reserved =  [106, 107, 108, 109, 110]\n",
    "\n",
    "You manage a parking lot with two lists:\n",
    "\n",
    "available_slots — parking slots that are free and can be reserved.\n",
    "\n",
    "reserved — parking slots that are already taken.\n",
    "\n",
    "Write a program that:\n",
    "\n",
    "Asks the user to enter a parking slot number they want to reserve.\n",
    "\n",
    "Checks the slot number:\n",
    "\n",
    "If the slot is in available_slots, confirm the reservation by printing:\n",
    "\n",
    "\"Slot {slot} is reserved for you.\"\n",
    "\n",
    "If the slot is in reserved, print:\n",
    "\n",
    "\"Slot {slot} is already reserved by someone else.\"\n",
    "\n",
    "If the slot is not in either list, print:\n",
    "\n",
    "\"Slot {slot} does not exist.\"\n",
    "\n",
    "Handles invalid input (non-integer) with an error message:\n",
    "\n",
    "\"Invalid input. Please enter a valid slot number.\"\n",
    "\n",
    "Expected Output:\n",
    "\n",
    "- Enter the parking slot number you want to reserve: 103\n",
    "\n",
    "    Slot 103 is reserved for you.\n",
    "\n",
    "- Enter the parking slot number you want to reserve: 107\n",
    "\n",
    "    Slot 107 is already reserved by someone else.\n",
    "\n",
    "- Enter the parking slot number you want to reserve: 999\n",
    "\n",
    "    Slot 999 does not exist.\n",
    "\n",
    "- Enter the parking slot number you want to reserve: abc\n",
    "\n",
    "  Invalid input. Please enter a valid slot number.\n"
   ]
  },
  {
   "cell_type": "code",
   "execution_count": 11,
   "id": "7b1ec6ab-191d-440d-bb7a-aa4f35466399",
   "metadata": {},
   "outputs": [
    {
     "name": "stdin",
     "output_type": "stream",
     "text": [
      "Enter the parking slot number you want to reserve:  111\n"
     ]
    },
    {
     "name": "stdout",
     "output_type": "stream",
     "text": [
      "Slot 111 does not exist.\n"
     ]
    }
   ],
   "source": [
    "available_slots = [101, 102, 103, 104, 105]\n",
    "reserved = [106, 107, 108, 109, 110]\n",
    "\n",
    "try:\n",
    "    slot = int(input(\"Enter the parking slot number you want to reserve: \"))\n",
    "    if slot in available_slots:\n",
    "        print(f\"Slot {slot} is reserved for you.\")\n",
    "    elif slot in reserved:\n",
    "        print(f\"Slot {slot} is already reserved by someone else.\")\n",
    "    else:\n",
    "        print(f\"Slot {slot} does not exist.\")\n",
    "except ValueError:\n",
    "    print(\"Invalid input. Please enter a valid slot number.\")"
   ]
  }
 ],
 "metadata": {
  "kernelspec": {
   "display_name": "Python 3 (ipykernel)",
   "language": "python",
   "name": "python3"
  },
  "language_info": {
   "codemirror_mode": {
    "name": "ipython",
    "version": 3
   },
   "file_extension": ".py",
   "mimetype": "text/x-python",
   "name": "python",
   "nbconvert_exporter": "python",
   "pygments_lexer": "ipython3",
   "version": "3.13.5"
  }
 },
 "nbformat": 4,
 "nbformat_minor": 5
}
