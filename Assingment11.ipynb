{
 "cells": [
  {
   "cell_type": "markdown",
   "id": "720df447-4349-4c97-9bf8-0d34ef0bdf39",
   "metadata": {},
   "source": [
    "## Assingment 11"
   ]
  },
  {
   "cell_type": "code",
   "execution_count": null,
   "id": "2ef7916e-8974-41e1-af67-cb2d60a80ded",
   "metadata": {},
   "outputs": [],
   "source": [
    "import csv\n",
    "with open(\"student data -.csv\", \"r\") as p:\n",
    "    reader = csv.reader(p)\n",
    "    header = next(reader)   \n",
    "    rows = []\n",
    "\n",
    "    header.append(\"Grade\")\n",
    "\n",
    "    for row in reader:\n",
    "        percentage = float(row[-1]) \n",
    "\n",
    "        if percentage >= 80:\n",
    "            grade = \"A\"\n",
    "        elif percentage >= 70:\n",
    "            grade = \"B\"\n",
    "        elif percentage >= 60:\n",
    "            grade = \"C\"\n",
    "        elif percentage >= 50:\n",
    "            grade = \"D\"\n",
    "        else:\n",
    "            grade = \"F\"\n",
    "\n",
    "        row.append(grade)\n",
    "        rows.append(row)\n",
    "\n",
    "with open(\"studentupdated grades.csv\", \"w\", newline=\"\") as q:\n",
    "    writer = csv.writer(q)\n",
    "    writer.writerow(header)\n",
    "    writer.writerows(rows)"
   ]
  },
  {
   "cell_type": "code",
   "execution_count": null,
   "id": "8554a484-e3f0-4513-b7d4-d5031c47260e",
   "metadata": {},
   "outputs": [],
   "source": []
  },
  {
   "cell_type": "code",
   "execution_count": null,
   "id": "63416f1b-99df-4772-a224-1121621a41e7",
   "metadata": {},
   "outputs": [],
   "source": []
  }
 ],
 "metadata": {
  "kernelspec": {
   "display_name": "Python [conda env:base] *",
   "language": "python",
   "name": "conda-base-py"
  },
  "language_info": {
   "codemirror_mode": {
    "name": "ipython",
    "version": 3
   },
   "file_extension": ".py",
   "mimetype": "text/x-python",
   "name": "python",
   "nbconvert_exporter": "python",
   "pygments_lexer": "ipython3",
   "version": "3.13.5"
  }
 },
 "nbformat": 4,
 "nbformat_minor": 5
}
